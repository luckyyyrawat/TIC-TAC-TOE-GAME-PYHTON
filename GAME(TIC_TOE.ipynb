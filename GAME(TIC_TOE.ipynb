{
 "cells": [
  {
   "cell_type": "code",
   "execution_count": 72,
   "id": "7b5826af-7d5e-498d-8795-2fe9db9f59f0",
   "metadata": {},
   "outputs": [],
   "source": [
    "from IPython.display import clear_output\n",
    "def  display_board(board):\n",
    "     print(board[7]+ '|' + board[8]+ '|' + board [9])\n",
    "     print(board[4]+ '|' + board[5]+ '|' + board [6])\n",
    "     print(board[1]+ '|' + board[2]+ '|' + board [3])"
   ]
  },
  {
   "cell_type": "code",
   "execution_count": 74,
   "id": "f9af71fa-2326-45e6-bb8a-36bd6907a5e3",
   "metadata": {},
   "outputs": [
    {
     "name": "stdout",
     "output_type": "stream",
     "text": [
      " | | \n",
      " | | \n",
      " | | \n"
     ]
    }
   ],
   "source": [
    "test_board = [' ']*10\n",
    "display_board(test_board)"
   ]
  },
  {
   "cell_type": "code",
   "execution_count": 110,
   "id": "1ddae70e-a5cc-4edc-9fff-7b76ba29852c",
   "metadata": {},
   "outputs": [
    {
     "name": "stdout",
     "output_type": "stream",
     "text": [
      "X|O|X\n",
      "O|X|O\n",
      "X|O|X\n"
     ]
    }
   ],
   "source": [
    "test_board = ['#','X','O','X','O','X','O','X','O','X']\n",
    "display_board(test_board)\n"
   ]
  },
  {
   "cell_type": "code",
   "execution_count": 102,
   "id": "9b86b9b0-cff7-421c-b0a6-662530807474",
   "metadata": {},
   "outputs": [],
   "source": [
    "def player_input(): ## assign their marker as 'X' or 'O'\n",
    "\n",
    "    '''\n",
    "    OUTPUT = (Player 1 marker , Player 2 marker )\n",
    "    '''\n",
    "    marker=''\n",
    "    while marker != 'X' and marker != 'O': ## or while  not ( marker=='X' or marker =='O'):\n",
    "        marker = input('Player 1: choose X or O :').upper()\n",
    "    if marker =='X':\n",
    "        return ('X', 'O')\n",
    "    else:\n",
    "        return ('O', 'X')\n",
    "\n"
   ]
  },
  {
   "cell_type": "code",
   "execution_count": 104,
   "id": "06f12015-7601-40d3-bf09-8e4a0a812ba5",
   "metadata": {},
   "outputs": [
    {
     "name": "stdin",
     "output_type": "stream",
     "text": [
      "Player 1: choose X or O : X\n"
     ]
    }
   ],
   "source": [
    "Player1_marker , Player2_marker = player_input()"
   ]
  },
  {
   "cell_type": "code",
   "execution_count": 106,
   "id": "fef3495e-10cf-4e52-8482-19a22084855b",
   "metadata": {},
   "outputs": [
    {
     "data": {
      "text/plain": [
       "'X'"
      ]
     },
     "execution_count": 106,
     "metadata": {},
     "output_type": "execute_result"
    }
   ],
   "source": [
    "Player1_marker"
   ]
  },
  {
   "cell_type": "code",
   "execution_count": 84,
   "id": "94a55f5b-5685-46d2-b4b8-1d5a122ed79e",
   "metadata": {},
   "outputs": [],
   "source": [
    "## STEP 3  FUNCTION THAT TAKES INPUT \n",
    "def place_marker (board, marker, position):\n",
    "   board [position]= marker"
   ]
  },
  {
   "cell_type": "code",
   "execution_count": 88,
   "id": "71e4719a-fc09-4dbb-9247-bb4686b017b8",
   "metadata": {},
   "outputs": [
    {
     "name": "stdout",
     "output_type": "stream",
     "text": [
      "?|O|X\n",
      "O|X|O\n",
      "X|O|X\n"
     ]
    }
   ],
   "source": [
    "place_marker(test_board, '?', 7)\n",
    "display_board(test_board)"
   ]
  },
  {
   "cell_type": "code",
   "execution_count": 40,
   "id": "3323a159-6d2a-456d-a22c-d81872c61fc6",
   "metadata": {},
   "outputs": [],
   "source": [
    "#3 step 4 check win or not\n",
    "def win_check(board,mark):\n",
    "    # WIN TIC TAC TOE ?\n",
    "    # ALL ROWS, AND CHECK TO SEE IF THEY ALL SHARE THE SAME MARKER. ?\n",
    "     # ALL COLUMNS, CHECK TO SEE IF MARKER MATCHES\n",
    "    # 2 DIAGONALS, CHECK TO SEE MATCH\n",
    "     return ( (board[1] == mark and board[2] == mark and board [3] == mark) or    # BOTTOM ROW \n",
    "    (board[4] == mark and board[5] == mark and board [6] == mark) or # MIDDLE ROW\n",
    "    (board[7] == mark and board[8] == mark and board [9] == mark) or # TOP ROW \n",
    "    (board[7] == mark and board[4] == mark and board [1] == mark)or #LEFT ROW\n",
    "    (board[8] == mark and board[5] == mark and board [2] == mark)or  #MIDDLE COLUMN\n",
    "    (board[9] == mark and board[6] == mark and board [3] == mark)or  # COLUMN RIGHT \n",
    "    (board[9] == mark and board[5] == mark and board [1] == mark)or #DIAGONAL\n",
    "    (board[7] == mark and board[5] == mark and board [3] == mark) ) #DIAGONAL\n",
    "   "
   ]
  },
  {
   "cell_type": "code",
   "execution_count": 42,
   "id": "62d58b5e-ad24-417e-8205-cb64cb419661",
   "metadata": {},
   "outputs": [
    {
     "name": "stdout",
     "output_type": "stream",
     "text": [
      " | | \n",
      " | | \n",
      " | | \n"
     ]
    },
    {
     "data": {
      "text/plain": [
       "False"
      ]
     },
     "execution_count": 42,
     "metadata": {},
     "output_type": "execute_result"
    }
   ],
   "source": [
    "display_board(test_board)\n",
    "win_check(test_board, 'X')\n"
   ]
  },
  {
   "cell_type": "code",
   "execution_count": 44,
   "id": "d8e31f51-be1c-4b96-9562-a954b97df24a",
   "metadata": {},
   "outputs": [],
   "source": [
    "### random module to decide randmly decides which player goes first.\n"
   ]
  },
  {
   "cell_type": "code",
   "execution_count": 46,
   "id": "da2f18e1-1186-4391-ad00-d21a2f87912d",
   "metadata": {},
   "outputs": [],
   "source": [
    "import random \n",
    "def choose_first():\n",
    "    flip =random.randint(0,1)\n",
    "\n",
    "    if flip == 0 :\n",
    "         return 'Player 1'\n",
    "    else:\n",
    "        return \"Player 2\""
   ]
  },
  {
   "cell_type": "code",
   "execution_count": 48,
   "id": "ced4360a-fbaa-4e2f-8d0f-3dd0a51e88db",
   "metadata": {},
   "outputs": [],
   "source": [
    "## FUNCTION THAT RETURNS A BOOLEAN INDICATING WHETHER A SPACE ON THE  BOARD IS FREELY AVAILABLE.\n",
    "def space_check(board, position):\n",
    "    return board[position] == ' '\n",
    "    "
   ]
  },
  {
   "cell_type": "code",
   "execution_count": 58,
   "id": "50aed159-de8c-49d3-a4df-e54cc3166e14",
   "metadata": {},
   "outputs": [],
   "source": [
    "def full_board_check(board):\n",
    "    for i in range (1,10):\n",
    "        if space_check( board, i):\n",
    "            return False\n",
    "        #board is full if we return True\n",
    "    return True"
   ]
  },
  {
   "cell_type": "code",
   "execution_count": 92,
   "id": "8215ff07-a144-4a0b-8d1c-b75f7ea9e844",
   "metadata": {},
   "outputs": [],
   "source": [
    "def player_choice(board):\n",
    "     position = 0\n",
    "     while position not in [1,2,3,4,5,6,7,8,9] or not space_check(board, position):\n",
    "            position = int(input('choose a position: (1-9) '))\n",
    "\n",
    "     return position"
   ]
  },
  {
   "cell_type": "code",
   "execution_count": 96,
   "id": "6558817d-c75f-44ac-b6f9-88af3230828c",
   "metadata": {},
   "outputs": [],
   "source": [
    "def replay():\n",
    "    choice = input(\"Play Again ? Enter Yes or No\")\n",
    "    return choice =='Yes'"
   ]
  },
  {
   "cell_type": "code",
   "execution_count": null,
   "id": "bcb27569-f9b3-4619-b231-cacf4f3b6089",
   "metadata": {},
   "outputs": [
    {
     "name": "stdout",
     "output_type": "stream",
     "text": [
      "Welcome to Tic Tac Toe\n"
     ]
    }
   ],
   "source": [
    "#####   HERE COMES THE HARD PART! USE THE WHILE LOOPS AND THE FUNCTIONS YOU HAVE MADE TO RUN THE GAME \n",
    "print (\"Welcome to Tic Tac Toe\")\n",
    "while True :\n",
    "    ##PLAY THE GAME \n",
    "    #SET EVERYTHING UP ( BOARD, MARKERS, CHOOSE WHO FIRST)\n",
    "     the_board = [' ']*10\n",
    "     Player1_marker , Player2_marker = player_input()\n",
    "\n",
    "     turn = choose_first()\n",
    "     print(turn + ' will go first')\n",
    "\n",
    "     play_game= input ('Ready to Play? y or n?')\n",
    "     if play_game =='y':\n",
    "        game_on= True\n",
    "     else :\n",
    "        game_on = False\n",
    "    ## GAMEPLAY\n",
    "\n",
    "     while game_on:\n",
    "         if turn == 'Player 1':\n",
    "               #SHOW THE BOARD\n",
    "            display_board(the_board)\n",
    "            # CHOOSE POSITION\n",
    "            position = player_choice(the_board)\n",
    "            # PLAE THE MARKER ON THE POSITION \n",
    "            place_marker(the_board,Player1_marker, position)\n",
    "            # CHEFCK IF THEY WON \n",
    "            if win_check(the_board,Player1_marker):\n",
    "                display_board(the_board)\n",
    "                print(\"PLAYER 1 HAS WON\")\n",
    "                game_on = False\n",
    "            else:\n",
    "                 if full_board_check(the_board):\n",
    "                       display_board(the_board)\n",
    "                       print ( \"GAME TIED!!!\")\n",
    "                       game_on = False\n",
    "                 else:\n",
    "                       turn = \"Player 2\"\n",
    "\n",
    "         else:\n",
    "                 #SHOW THE BOARD\n",
    "            display_board(the_board)\n",
    "            \n",
    "            # CHOOSE POSITION\n",
    "            position = player_choice(the_board)\n",
    "           \n",
    "            # PLAE THE MARKER ON THE POSITION \n",
    "            place_marker(the_board,Player2_marker, position)\n",
    "            # CHEFCK IF THEY WON \n",
    "            if win_check(the_board, Player2_marker):\n",
    "                display_board(the_board)\n",
    "                print(\"PLAYER 2 HAS WON\")\n",
    "                game_on = False\n",
    "            else:\n",
    "                   if full_board_check(the_board):\n",
    "                       display_board(the_board)\n",
    "                       print ( \"GAME TIED!!!\")\n",
    "                       game_on = False\n",
    "                   else:\n",
    "                       turn = \"Player 1\"\n",
    "     if not replay():\n",
    "        break\n",
    "\n",
    "        "
   ]
  },
  {
   "cell_type": "code",
   "execution_count": null,
   "id": "86b79c88-4fee-4ba2-a3f1-45a461be1bd4",
   "metadata": {},
   "outputs": [],
   "source": []
  },
  {
   "cell_type": "code",
   "execution_count": null,
   "id": "59d23302-3313-46c6-a510-e63aad4e6063",
   "metadata": {},
   "outputs": [],
   "source": []
  },
  {
   "cell_type": "code",
   "execution_count": null,
   "id": "5de96f21-8abf-4395-8d2e-ca09bed9bf57",
   "metadata": {},
   "outputs": [],
   "source": []
  }
 ],
 "metadata": {
  "kernelspec": {
   "display_name": "Python 3 (ipykernel)",
   "language": "python",
   "name": "python3"
  },
  "language_info": {
   "codemirror_mode": {
    "name": "ipython",
    "version": 3
   },
   "file_extension": ".py",
   "mimetype": "text/x-python",
   "name": "python",
   "nbconvert_exporter": "python",
   "pygments_lexer": "ipython3",
   "version": "3.12.4"
  }
 },
 "nbformat": 4,
 "nbformat_minor": 5
}
